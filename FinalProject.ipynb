{
 "cells": [
  {
   "cell_type": "markdown",
   "id": "979923b5-0493-4768-ad1a-06db54f0bc7a",
   "metadata": {},
   "source": [
    "# Final Project Notebook\n",
    "\n",
    "DS 5001 Text as Data | Spring 2025"
   ]
  },
  {
   "cell_type": "markdown",
   "id": "7046f57f-12ed-4259-be3d-60cb67b8d044",
   "metadata": {},
   "source": [
    "# Metadata\n",
    "\n",
    "- Full Name: James Siegener\n",
    "- Userid: gnq2mr\n",
    "- GitHub Repo URL: https://github.com/jamessiegener/DS-5001-Final-Project\n",
    "- UVA Box URL: https://virginia.box.com/s/0deakjbcfh6l0l0i7rthv2592xdzt9fd"
   ]
  },
  {
   "cell_type": "markdown",
   "id": "57acd11d-eb04-4bcc-b115-f205f367de49",
   "metadata": {},
   "source": [
    "# Overview\n",
    "\n",
    "The goal of the final project is for you to create a **digital analytical edition** of a corpus using the tools, practices, and perspectives you’ve learning in this course. You will select a corpus that has already been digitized and transcribed, parse that into an F-compliant set of tables, and then generate and visualize the results of a series of fitted models. You will also draw some tentative conclusions regarding the linguistic, cultural, psychological, or historical features represented by your corpus. The point of the exercise is to have you work with a corpus through the entire pipeline from ingestion to interpretation. \n",
    "\n",
    "Specifically, you will acquire a collection of long-form texts and perform the following operations:\n",
    "\n",
    "- **Convert** the collection from their source formats (F0) into a set of tables that conform to the Standard Text Analytic Data Model (F2).\n",
    "- **Annotate** these tables with statistical and linguistic features using NLP libraries such as NLTK (F3).\n",
    "- **Produce** a vector representation of the corpus to generate TFIDF values to add to the TOKEN (aka CORPUS) and VOCAB tables (F4).\n",
    "- **Model** the annotated and vectorized model with tables and features derived from the application of unsupervised methods, including PCA, LDA, and word2vec (F5).\n",
    "- **Explore** your results using statistical and visual methods.\n",
    "- **Present** conclusions about patterns observed in the corpus by means of these operations.\n",
    "\n",
    "When you are finished, you will make the results of your work available in GitHub (for code) and UVA Box (for data). You will submit to Gradescope (via Canvas) a PDF version of a Jupyter notebook that contains the information listed below.\n",
    "\n",
    "# Some Details\n",
    "\n",
    "- Please fill out your answers in each task below by editing the markdown cell. \n",
    "- Replace text that asks you to insert something with the thing, i.e. replace `(INSERT IMAGE HERE)` with an image element, e.g. `![](image.png)`.\n",
    "- For URLs, just paste the raw URL directly into the text area. Don't worry about providing link labels using `[label](link)`.\n",
    "- Please do not alter the structure of the document or cell, i.e. the bulleted lists. \n",
    "- You may add explanatory paragraphs below the bulleted lists.\n",
    "- Please name your tables as they are named in each task below.\n",
    "- Tasks are indicated by headers with point values in parentheses."
   ]
  },
  {
   "cell_type": "markdown",
   "id": "568b6d68-e039-4612-858b-29510eeb5365",
   "metadata": {},
   "source": [
    "# Raw Data"
   ]
  },
  {
   "cell_type": "markdown",
   "id": "cb0889de-cd53-4aa5-80b2-a2a39060776a",
   "metadata": {},
   "source": [
    "## Source Description (1)"
   ]
  },
  {
   "cell_type": "markdown",
   "id": "aa9e395a-4b0b-4ba3-9112-80c733998dbe",
   "metadata": {},
   "source": [
    "Provide a brief description of your source material, including its provenance and content. Tell us where you found it and what kind of content it contains.\n",
    "\n",
    "The source data consists of lyrics from 1,992 songs across 127 albums and 19 artists. The Spotify ID for each album was gathered manually. Song titles were then scraped from Spotify and used to query Genius, from which the corresponding lyric pages were scraped and compiled into a DataFrame."
   ]
  },
  {
   "cell_type": "markdown",
   "id": "89b507c1-6dc2-44f7-b74c-790d84a48e8c",
   "metadata": {
    "tags": []
   },
   "source": [
    "## Source Features (1)\n",
    "\n",
    "Add values for the following items. (Do this for all following bulleted lists.)\n",
    "\n",
    "- Source URL: https://genius.com and https://spotify.com\n",
    "- UVA Box URL: https://virginia.box.com/s/7kswaar7yixjokbmo55lby1kn7nl9gwv\n",
    "- Number of raw documents: 1992\n",
    "- Total size of raw documents (e.g. in MB): 5.3mb\n",
    "- File format(s), e.g. XML, plaintext, etc.: CSV"
   ]
  },
  {
   "cell_type": "markdown",
   "id": "590e81b1-9f70-47b5-bb25-49be4e76b98b",
   "metadata": {
    "tags": []
   },
   "source": [
    "## Source Document Structure (1)\n",
    "\n",
    "Provide a brief description of the internal structure of each document. That, describe the typical elements found in document and their relation to each other. For example, a corpus of letters might be described as having a date, an addressee, a salutation, a set of content paragraphs, and closing. If they are various structures, state that.\n",
    "\n",
    "Each document in the corpus represents a single song. The internal structure of each song typically includes a sequence of labeled sections such as verses, choruses, pre-choruses, bridges, and outros. These sections are marked explicitly in the text (e.g., “[Verse 1]”, “[Chorus]”) and may repeat throughout the song.  For the purposes of analysis, the corpus organizes the content hierarchically by artist, album, song, and verse, with each verse treated as a meaningful unit of context. While most documents follow a common verse-chorus format, there is some variation in structure across songs.\n",
    "\n"
   ]
  },
  {
   "cell_type": "markdown",
   "id": "10ec4c9f-e101-46fe-ac59-a35a1b148a4b",
   "metadata": {},
   "source": [
    "# Parsed and Annotated Data\n",
    "\n",
    "Parse the raw data into the three core tables of your addition: the `LIB`, `CORPUS`, and `VOCAB` tables.\n",
    "\n",
    "These tables will be stored as CSV files with header rows.\n",
    "\n",
    "You may consider using `|` as a delimitter.\n",
    "\n",
    "Provide the following information for each."
   ]
  },
  {
   "cell_type": "markdown",
   "id": "e9d05ce4-ac5c-43ea-a07b-c4626338f80e",
   "metadata": {},
   "source": [
    "## LIB (2)\n",
    "\n",
    "The source documents the corpus comprises. These may be books, plays, newspaper articles, abstracts, blog posts, etc. \n",
    "\n",
    "Note that these are *not* documents in the sense used to describe a bag-of-words representation of a text, e.g. chapter.\n",
    "\n",
    "- UVA Box URL: https://virginia.box.com/s/x13cw57aa3bn2h618m3pgj0i4740wgha\n",
    "- GitHub URL for notebook used to create: https://github.com/jamessiegener/DS-5001-Final-Project/blob/main/textasdata_report.ipynb\n",
    "- Delimitter: \"|\"\n",
    "- Number of observations: 1974\n",
    "- List of features, including at least three that may be used for model summarization (e.g. date, author, etc.): 'album_title', 'artist_name', 'song_title', 'song_id', 'char_len', 'release_year', 'label', 'genius_url'\n",
    "- Average length of each document in characters: 2520"
   ]
  },
  {
   "cell_type": "markdown",
   "id": "304204a5-00be-46ad-b98b-0d10a9c8ca4b",
   "metadata": {},
   "source": [
    "## CORPUS (2)\n",
    "\n",
    "The sequence of word tokens in the corpus, indexed by their location in the corpus and document structures.\n",
    "\n",
    "- UVA Box URL: https://virginia.box.com/s/g5tb58v4xha5rogq3gbw604jlselfftv\n",
    "- GitHub URL for notebook used to create:\n",
    "- Delimitter: \"|\"\n",
    "- Number of observations Between (should be >= 500,000 and <= 2,000,000 observations.): 912,702\n",
    "- OHCO Structure (as delimitted column names): `album_title`,`song_id`,`verse_num`,`token_num`\n",
    "- Columns (as delimitted column names, including `token_str`, `term_str`, `pos`, and `pos_group`): `token_str`, `term_str`, `pos`, and `pos_group`"
   ]
  },
  {
   "cell_type": "markdown",
   "id": "5ae3214e-e6dd-42d6-842f-555d0058986e",
   "metadata": {},
   "source": [
    "## VOCAB (2)\n",
    "\n",
    "The unique word types (terms) in the corpus.\n",
    "\n",
    "- UVA Box URL: https://virginia.box.com/s/8wz6k6bj5jpzuwcw6l3kmkuoe0k8q80a\n",
    "- GitHub URL for notebook used to create: https://github.com/jamessiegener/DS-5001-Final-Project/blob/main/textasdata_report.ipynb\n",
    "- Delimitter: \"|\"\n",
    "- Number of observations: 25064\n",
    "- Columns (as delimitted names, including `n`, `p`', `i`, `dfidf`, `porter_stem`, `max_pos` and `max_pos_group`, `stop`): `n`, `p`', `i`, `dfidf`, `max_pos`, `max_pos_group`, `stop`, `porter_stem`\n",
    "- Note: Your VOCAB may contain ngrams. If so, add a feature for `ngram_length`.\n",
    "- List the top 20 significant words in the corpus by DFIDF.\n",
    "too,1032.282762\n",
    "ill,1032.278672\n",
    "feel,1032.272558\n",
    "come,1032.264967\n",
    "tell,1032.264967\n",
    "want,1032.242976\n",
    "then,1032.172870\n",
    "been,1031.781146\n",
    "need,1031.768128\n",
    "right,1031.453660\n",
    "are,1031.268117\n",
    "let,1031.237665\n",
    "way,1030.663884\n",
    "wanna,1030.583547\n",
    "thats,1030.061592\n",
    "have,1030.061592\n",
    "take,1029.872454\n",
    "could,1028.223764\n",
    "off,1028.090738\n",
    "think,1028.090738"
   ]
  },
  {
   "cell_type": "markdown",
   "id": "b40dabdc-baae-4408-95bc-2f735824d59b",
   "metadata": {},
   "source": [
    "# Derived Tables"
   ]
  },
  {
   "cell_type": "markdown",
   "id": "49f2ef9c-1cb5-41e8-a5ee-1e37428b4539",
   "metadata": {},
   "source": [
    "## BOW (3)\n",
    "\n",
    "A bag-of-words representation of the CORPUS.\n",
    "\n",
    "- UVA Box URL: https://virginia.box.com/s/e9wyf2ue33v3tz3h0q80v49pwf7e4g0x\n",
    "- GitHub URL for notebook used to create: https://github.com/jamessiegener/DS-5001-Final-Project/blob/main/textasdata_report.ipynb\n",
    "- Delimitter: \"|\"\n",
    "- Bag (expressed in terms of OHCO levels): ['album_title', 'song_id']\n",
    "- Number of observations: 331342\n",
    "- Columns (as delimitted names, including `n`, `tfidf`): 'term_str','n','tfidf'"
   ]
  },
  {
   "cell_type": "markdown",
   "id": "29890d2f-bf96-43ad-8d08-792393830163",
   "metadata": {
    "tags": []
   },
   "source": [
    "## DTM (3)\n",
    "\n",
    "A represenation of the BOW as a sparse count matrix.\n",
    "\n",
    "- UVA Box URL: https://virginia.box.com/s/2ynvltqc32u3mdi2zlhimvk4um4hgw1d\n",
    "- UVA Box URL of BOW used to generate (if applicable): https://virginia.box.com/s/e9wyf2ue33v3tz3h0q80v49pwf7e4g0x\n",
    "- GitHub URL for notebook used to create: https://github.com/jamessiegener/DS-5001-Final-Project/blob/main/textasdata_report.ipynb\n",
    "- Delimitter: \"|\"\n",
    "- Bag (expressed in terms of OHCO levels): ['album_title', 'song_id']"
   ]
  },
  {
   "cell_type": "markdown",
   "id": "8b4b4774-7c76-401d-a9de-2704f28a0821",
   "metadata": {},
   "source": [
    "## TFIDF (3)\n",
    "\n",
    "A Document-Term matrix with TFIDF values.\n",
    "\n",
    "- UVA Box URL: https://virginia.box.com/s/1e4mugger7w53ngqwjhplozjvopqj7s9\n",
    "- UVA Box URL of DTM or BOW used to create: https://virginia.box.com/s/e9wyf2ue33v3tz3h0q80v49pwf7e4g0x\n",
    "- GitHub URL for notebook used to create: https://github.com/jamessiegener/DS-5001-Final-Project/blob/main/textasdata_report.ipynb\n",
    "- Delimitter: \"|\"\n",
    "- Description of TFIDIF formula ($\\LaTeX$ OK): \n",
    "**Term Frequency (TF):**\n",
    "\n",
    "$$\n",
    "\\text{TF}_{t,d} = \\frac{f_{t,d}}{\\max(f_{t,d'})}\n",
    "$$\n",
    "\n",
    "**Document Frequency (DF):**\n",
    "\n",
    "$$\n",
    "\\text{DF}_t = \\sum_{d=1}^{N} \\mathbf{1}_{t \\in d}\n",
    "$$\n",
    "\n",
    "**Inverse Document Frequency (IDF):**\n",
    "\n",
    "$$\n",
    "\\text{IDF}_t = \\log_2\\left(\\frac{N_{\\text{docs}}}{\\text{DF}_t}\\right)\n",
    "$$\n",
    "\n",
    "**TF-IDF:**\n",
    "\n",
    "$$\n",
    "\\text{TF-IDF}_{t,d} = \\text{TF}_{t,d} \\times \\text{IDF}_t\n",
    "$$\n"
   ]
  },
  {
   "cell_type": "markdown",
   "id": "fd34f5ca-5361-4701-b9dd-9da66859b40b",
   "metadata": {
    "tags": []
   },
   "source": [
    "## Reduced and Normalized TFIDF_L2 (3)"
   ]
  },
  {
   "cell_type": "markdown",
   "id": "5c548dd2-f692-4365-936c-39c84df79b90",
   "metadata": {
    "tags": []
   },
   "source": [
    "A Document-Term matrix with L2 normalized TFIDF values.\n",
    "\n",
    "- UVA Box URL: https://virginia.box.com/s/cnaikr1rasxl20kvqutbuynkugr0q0il\n",
    "- UVA Box URL of source TFIDF table: https://virginia.box.com/s/1e4mugger7w53ngqwjhplozjvopqj7s9\n",
    "- GitHub URL for notebook used to create: https://github.com/jamessiegener/DS-5001-Final-Project/blob/main/textasdata_report.ipynb\n",
    "- Delimitter: \"|\"\n",
    "- Number of features (i.e. significant words): 1000\n",
    "- Principle of significant word selection: dfidf"
   ]
  },
  {
   "cell_type": "markdown",
   "id": "7c50da94-af36-4e8d-b1a7-24dbcf431880",
   "metadata": {},
   "source": [
    "# Models"
   ]
  },
  {
   "cell_type": "markdown",
   "id": "9df79264-dd93-4199-be38-db31579b7ce8",
   "metadata": {},
   "source": [
    "## PCA Components (4)\n",
    "\n",
    "- UVA Box URL: https://virginia.box.com/s/0jf0k539qufkci95m2hl2kjsmeh1mh41\n",
    "- UVA Box URL of the source TFIDF_L2 table: https://virginia.box.com/s/cnaikr1rasxl20kvqutbuynkugr0q0il\n",
    "- GitHub URL for notebook used to create: https://github.com/jamessiegener/DS-5001-Final-Project/blob/main/textasdata_report.ipynb\n",
    "- Delimitter: \"|\"\n",
    "- Number of components: 10\n",
    "- Library used to generate: Scratch implementation from class\n",
    "- Top 5 positive terms for first component: love baby heart were babe \n",
    "- Top 5 negative terms for second component: was didnt never looks youd"
   ]
  },
  {
   "cell_type": "markdown",
   "id": "73adc882-cbce-4d24-9923-5d36ac609f43",
   "metadata": {
    "tags": []
   },
   "source": [
    "## PCA DCM (4)\n",
    "\n",
    "The document-component matrix generated.\n",
    "\n",
    "- UVA Box URL: https://virginia.box.com/s/1q7jq8ki0zu3gwj6wtdna9cwg0ql2un5\n",
    "- GitHub URL for notebook used to create: https://github.com/jamessiegener/DS-5001-Final-Project/blob/main/textasdata_report.ipynb\n",
    "- Delimitter: \"|\""
   ]
  },
  {
   "cell_type": "markdown",
   "id": "b3fd2a4a-7f2f-4259-a5c4-063168cb1b14",
   "metadata": {
    "tags": []
   },
   "source": [
    "## PCA Loadings (4)\n",
    "\n",
    "The component-term matrix generated.\n",
    "\n",
    "- UVA Box URL: https://virginia.box.com/s/hg5xs9d615i3ghsntk411bvq8009u3gf\n",
    "- GitHub URL for notebook used to create: https://github.com/jamessiegener/DS-5001-Final-Project/blob/main/textasdata_report.ipynb\n",
    "- Delimitter: \"|\""
   ]
  },
  {
   "cell_type": "markdown",
   "id": "84fff42f-6665-4941-ba3d-034627dc0124",
   "metadata": {},
   "source": [
    "## PCA Visualization 1 (4)\n",
    "\n",
    "Include a scatterplot of documents in the space created by the first two components.\n",
    "\n",
    "Color the points based on a metadata feature associated with the documents.\n",
    "\n",
    "Also include a scatterplot of the loadings for the same two components. (This does not need a feature mapped onto color.)\n",
    "\n",
    "![Example Image](PCA1.png)\n",
    "\n",
    "![Example Image](loadings1.png)\n",
    "\n",
    "Briefly describe the nature of the polarity you see in the first component: \n",
    "\n",
    "In the first component, there is a very clear separation between albums by artists that are generally considered rappers, like Kanye West, and Eminem, whereas the positive has more of the pop artists like Ariana Grande and Taylor Swift."
   ]
  },
  {
   "cell_type": "markdown",
   "id": "2eb54565-7669-4a2f-90b2-a4c283277c02",
   "metadata": {},
   "source": [
    "## PCA Visualization 2 (4)\n",
    "\n",
    "Include a scatterplot of documents in the space created by the second two components.\n",
    "\n",
    "Color the points based on a metadata feature associated with the documents.\n",
    "\n",
    "Also include a scatterplot of the loadings for the same two components. (This does not need a feature mapped onto color.)\n",
    "\n",
    "![Example Image](pca2.png)\n",
    "\n",
    "![Example Image](loadings2.png)\n",
    "\n",
    "Briefly describe the nature of the polarity you see in the second component:\n",
    "\n",
    "This component I can not see too extreme of a polarity, but it did manage to separate all of Eminem, Drake, and Ariana Grande's albums in the negative, while the positive is much more mixed. "
   ]
  },
  {
   "cell_type": "markdown",
   "id": "d3ee23b2-25d1-4226-bf31-1607e5ed4677",
   "metadata": {
    "tags": []
   },
   "source": [
    "## LDA TOPIC (4)\n",
    "\n",
    "- UVA Box URL: https://virginia.box.com/s/9yu44vm1q69nr3we5r9t7em0mx2aqbey\n",
    "- UVA Box URL of count matrix used to create: https://virginia.box.com/s/1q7jq8ki0zu3gwj6wtdna9cwg0ql2un5 \n",
    "- GitHub URL for notebook used to create: https://github.com/jamessiegener/DS-5001-Final-Project/blob/main/textasdata_report.ipynb\n",
    "- Delimitter: \"|\"\n",
    "- Libary used to compute: scikit learn\n",
    "- A description of any filtering, e.g. POS (Nouns and Verbs only): Only Nouns\n",
    "- Number of components: 20\n",
    "- Any other parameters used: max_df=0.9, min_df=2\n",
    "- Top 5 words and best-guess labels for topic five topics by mean document weight:\n",
    "  - T00: Time Love Thing Gonna Heart - Love\n",
    "  - T01: Baby Time Mind Boy Youre - Romantic partners\n",
    "  - T02: Love Yeah Woah Baby Time - Declarations of Love\n",
    "  - T03: Shit Hands Bitch Fuck People - Profanity/Aggression\n",
    "  - T04: Night Lights Yeah Time Love - Love in the City"
   ]
  },
  {
   "cell_type": "markdown",
   "id": "a518d520-4a5c-48fa-836d-f8ea3e3c2f06",
   "metadata": {
    "tags": []
   },
   "source": [
    "## LDA THETA (4)\n",
    "\n",
    "- UVA Box URL: https://virginia.box.com/s/p6zgozyov2o07cwrn1amyyeq7awq9nln\n",
    "- GitHub URL for notebook used to create:\n",
    "- Delimitter: \"|\""
   ]
  },
  {
   "cell_type": "markdown",
   "id": "f8808b30-64f4-4249-95d5-d7c0925ce432",
   "metadata": {
    "tags": []
   },
   "source": [
    "## LDA PHI (4)\n",
    "\n",
    "- UVA Box URL: https://virginia.box.com/s/r49fp9amc6rmq8gsmmx29yuh8h7iwo9r\n",
    "- GitHub URL for notebook used to create: https://github.com/jamessiegener/DS-5001-Final-Project/blob/main/textasdata_report.ipynb\n",
    "- Delimitter: \"|\""
   ]
  },
  {
   "cell_type": "markdown",
   "id": "18e404bf-8a2a-4eb4-ba89-0c708c8f359d",
   "metadata": {},
   "source": [
    "## LDA + PCA Visualization (4)\n",
    "\n",
    "Apply PCA to the THETA table and plot the topics in the space opened by the first two components.\n",
    "\n",
    "Size the points based on the mean document weight of each topic (using the THETA table).\n",
    "\n",
    "Color the points basd on a metadata feature from the LIB table.\n",
    "\n",
    "Provide a brief interpretation of what you see.\n",
    "\n",
    "![Example Image](lda_pca.png)\n",
    "\n",
    "The two largest dots, representing the two topics with the highest mean weight, are at the extremes of the scatterplot. T017 is at the very positive end of component 0, and T04 is at the very positive end of component 1. These topics both are colored blue, meaning that they are most prevalent in the work of Taylor Swift. This to me indicates that Taylor Swift's work is distinct from the other artists in some way that can easily be represented through the topics, or that her work is overwhelming the algorithm, as she is the most prevalent artist. The topics are also only dominated by 5 artists, Taylor Swift, Drake, Eminem, Kanye West, and Beyonce, which could indicate that their work is most influential within the datset."
   ]
  },
  {
   "cell_type": "markdown",
   "id": "a7e1f327-a386-476a-8d94-2ab7a63afa7a",
   "metadata": {},
   "source": [
    "## Sentiment VOCAB_SENT (4)\n",
    "\n",
    "Sentiment values associated with a subset of the VOCAB from a curated sentiment lexicon.\n",
    "\n",
    "- UVA Box URL: https://virginia.box.com/s/swug0pvpyvo8dghe0m55stir3usxdx7u\n",
    "- UVA Box URL for source lexicon: https://virginia.box.com/s/elvk3paqb9csjrylluo44st7wepwj3nk\n",
    "- GitHub URL for notebook used to create: https://github.com/jamessiegener/DS-5001-Final-Project/blob/main/textasdata_report.ipynb\n",
    "- Delimitter: \"|\""
   ]
  },
  {
   "cell_type": "markdown",
   "id": "fa8a9d67-1560-4be9-b82a-b99a60b5c93e",
   "metadata": {
    "tags": []
   },
   "source": [
    "## Sentiment BOW_SENT (4)\n",
    "\n",
    "Sentiment values from VOCAB_SENT mapped onto BOW.\n",
    "\n",
    "- UVA Box URL: https://virginia.box.com/s/4c4nvdn4xwfmiwoxfqgp494agieupxn6\n",
    "- GitHub URL for notebook used to create: https://github.com/jamessiegener/DS-5001-Final-Project/blob/main/textasdata_report.ipynb\n",
    "- Delimitter: \"|\""
   ]
  },
  {
   "cell_type": "markdown",
   "id": "d6ee6837-b12e-453d-96c1-59eaa4b28883",
   "metadata": {},
   "source": [
    "## Sentiment DOC_SENT (4)\n",
    "\n",
    "Computed sentiment per bag computed from BOW_SENT.\n",
    "\n",
    "- UVA Box URL: https://virginia.box.com/s/upargjtbcv1n0682py9m2ckvlunyp6lw\n",
    "- GitHub URL for notebook used to create: https://github.com/jamessiegener/DS-5001-Final-Project/blob/main/textasdata_report.ipynb\n",
    "- Delimitter: \"|\"\n",
    "- Document bag expressed in terms of OHCO levels: ['album_title', 'song_id']"
   ]
  },
  {
   "cell_type": "markdown",
   "id": "7e4cba13-e60a-4940-a06d-02479f002c3c",
   "metadata": {},
   "source": [
    "## Sentiment Plot (4)\n",
    "\n",
    "Plot sentiment over some metric space, such as time.\n",
    "\n",
    "If you don't have a metric metadata features, plot sentiment over a feature of your choice.\n",
    "\n",
    "You may use a bar chart or a line graph.\n",
    "\n",
    "![Example Image](sentimentovertime.png)\n"
   ]
  },
  {
   "cell_type": "markdown",
   "id": "4f5d2316-317b-4d95-a804-aff98242e411",
   "metadata": {},
   "source": [
    "## VOCAB_W2V (4)\n",
    "\n",
    "A table of word2vec features associated with terms in the VOCAB table.\n",
    "\n",
    "- UVA Box URL: https://virginia.box.com/s/u921fniv9i3crvcq780p115rzjy75wnk\n",
    "- GitHub URL for notebook used to create: https://github.com/jamessiegener/DS-5001-Final-Project/blob/main/textasdata_report.ipynb\n",
    "- Delimitter: \"|\"\n",
    "- Document bag expressed in terms of OHCO levels: ['album_title','song_id']\n",
    "- Number of features generated: 200\n",
    "- The library used to generate the embeddings: gensim"
   ]
  },
  {
   "cell_type": "markdown",
   "id": "833c1974-047b-4285-9f4d-7f3314f39542",
   "metadata": {},
   "source": [
    "## Word2vec tSNE Plot (4)\n",
    "\n",
    "Plot word embedding featues in two-dimensions using t-SNE.\n",
    "\n",
    "Describe a cluster in the plot that captures your attention.\n",
    "\n",
    "![Example Image](tsne.png)\n",
    "\n",
    "There is a cluster located at around (10,20) that contains many words related to time. This cluster is interesting to me because it seems to float above the main group of words in the center. It contains the words, \"minute,\" \"hour,\" \"day,\" \"year,\" \"friday,\" \"week,\" \"next,\" \"same\" and other words that either describe time or are used frequently with time words. "
   ]
  },
  {
   "cell_type": "markdown",
   "id": "75878341-7fe8-4e22-b908-36029f9818e8",
   "metadata": {},
   "source": [
    "# Riffs\n",
    "\n",
    "Provde at least three visualizations that combine the preceding model data in interesting ways.\n",
    "\n",
    "These should provide insight into how features in the LIB table are related. \n",
    "\n",
    "The nature of this relationship is left open to you -- it may be correlation, or mutual information, or something less well defined. \n",
    "\n",
    "In doing so, consider the following visualization types:\n",
    "\n",
    "- Hierarchical cluster diagrams\n",
    "- Heatmaps\n",
    "- Scatter plots\n",
    "- KDE plots\n",
    "- Dispersion plots\n",
    "- t-SNE plots\n",
    "- etc."
   ]
  },
  {
   "cell_type": "markdown",
   "id": "1c62acf1-6bb0-45d0-aed2-863b285f8cad",
   "metadata": {
    "tags": []
   },
   "source": [
    "## Riff 1 (5)\n",
    "\n",
    "(INSERT IMAGE HERE)\n",
    "\n",
    "(INSERT INTERPRETATION HERE)"
   ]
  },
  {
   "cell_type": "markdown",
   "id": "2155a072-02b3-4aa8-b9f1-e43a59e9a85d",
   "metadata": {
    "tags": []
   },
   "source": [
    "## Riff 2 (5)\n",
    "\n",
    "(INSERT IMAGE HERE)\n",
    "\n",
    "(INSERT INTERPRETATION HERE)"
   ]
  },
  {
   "cell_type": "markdown",
   "id": "5067c59b-8983-4acc-972a-1ecd852ded57",
   "metadata": {
    "tags": []
   },
   "source": [
    "## Riff 3 (5)\n",
    "\n",
    "(INSERT IMAGE HERE)\n",
    "\n",
    "(INSERT INTERPRETATION HERE)"
   ]
  },
  {
   "cell_type": "markdown",
   "id": "68e25c6e-2624-4899-829e-e7d60c878685",
   "metadata": {},
   "source": [
    "# Interpretation (4)\n",
    "\n",
    "Describe something interesting about your corpus that you discovered during the process of completing this assignment.\n",
    "\n",
    "At a minumum, use 250 words, but you may use more. You may also add images if you'd like.\n",
    "\n",
    "(INSERT INTERPRETATION HERE)"
   ]
  }
 ],
 "metadata": {
  "kernelspec": {
   "display_name": "Python 3 (ipykernel)",
   "language": "python",
   "name": "python3"
  },
  "language_info": {
   "codemirror_mode": {
    "name": "ipython",
    "version": 3
   },
   "file_extension": ".py",
   "mimetype": "text/x-python",
   "name": "python",
   "nbconvert_exporter": "python",
   "pygments_lexer": "ipython3",
   "version": "3.11.11"
  },
  "toc-autonumbering": true,
  "toc-showmarkdowntxt": false
 },
 "nbformat": 4,
 "nbformat_minor": 5
}
