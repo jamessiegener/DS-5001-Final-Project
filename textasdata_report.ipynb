{
 "cells": [
  {
   "cell_type": "code",
   "execution_count": 300,
   "id": "initial_id",
   "metadata": {
    "collapsed": true,
    "ExecuteTime": {
     "end_time": "2025-04-21T04:12:09.945565Z",
     "start_time": "2025-04-21T04:12:09.933289Z"
    }
   },
   "outputs": [],
   "source": [
    "import numpy as np\n",
    "import pandas as pd\n",
    "import seaborn as sns\n",
    "import matplotlib.pyplot as plt"
   ]
  },
  {
   "cell_type": "code",
   "outputs": [
    {
     "data": {
      "text/plain": "                 Album_ID    Album_Name Album_Artists  \\\n0  7mzrIsaAjnXihW3InKjlC3  Taylor Swift  Taylor Swift   \n1  7mzrIsaAjnXihW3InKjlC3  Taylor Swift  Taylor Swift   \n2  7mzrIsaAjnXihW3InKjlC3  Taylor Swift  Taylor Swift   \n3  7mzrIsaAjnXihW3InKjlC3  Taylor Swift  Taylor Swift   \n4  7mzrIsaAjnXihW3InKjlC3  Taylor Swift  Taylor Swift   \n\n                                   Album_Songs          Album_Song_IDs  \\\n0                                   Tim McGraw  0Om9WAB5RS09L80DyOfTNa   \n1                              Picture To Burn  32mVHdy0bi1XKgr0ajsBlG   \n2  Teardrops On My Guitar - Radio Single Remix  7zMcNqs55Mxer82bvZFkpg   \n3                        A Place in this World  73OX8GdpOeGzKC6OvGSbsv   \n4                                  Cold As You  7an1exwMnfYRcdVQm0yDev   \n\n                                         Song_Lyrics  \\\n0  [Verse 1]\\nHe said the way my blue eyes shined...   \n1  [Verse 1]\\nState the obvious, I didn't get my ...   \n2  [Verse 1]\\nDrew looks at me\\nI fake a smile so...   \n3  [Verse 1]\\nI don't know what I want, so don't ...   \n4  [Verse 1]\\nYou have a way of coming easily to ...   \n\n                                         Genius_URLs  \n0  https://genius.com/Taylor-swift-tim-mcgraw-lyrics  \n1  https://genius.com/Taylor-swift-picture-to-bur...  \n2  https://genius.com/Taylor-swift-teardrops-on-m...  \n3  https://genius.com/Taylor-swift-a-place-in-thi...  \n4  https://genius.com/Taylor-swift-cold-as-you-ly...  ",
      "text/html": "<div>\n<style scoped>\n    .dataframe tbody tr th:only-of-type {\n        vertical-align: middle;\n    }\n\n    .dataframe tbody tr th {\n        vertical-align: top;\n    }\n\n    .dataframe thead th {\n        text-align: right;\n    }\n</style>\n<table border=\"1\" class=\"dataframe\">\n  <thead>\n    <tr style=\"text-align: right;\">\n      <th></th>\n      <th>Album_ID</th>\n      <th>Album_Name</th>\n      <th>Album_Artists</th>\n      <th>Album_Songs</th>\n      <th>Album_Song_IDs</th>\n      <th>Song_Lyrics</th>\n      <th>Genius_URLs</th>\n    </tr>\n  </thead>\n  <tbody>\n    <tr>\n      <th>0</th>\n      <td>7mzrIsaAjnXihW3InKjlC3</td>\n      <td>Taylor Swift</td>\n      <td>Taylor Swift</td>\n      <td>Tim McGraw</td>\n      <td>0Om9WAB5RS09L80DyOfTNa</td>\n      <td>[Verse 1]\\nHe said the way my blue eyes shined...</td>\n      <td>https://genius.com/Taylor-swift-tim-mcgraw-lyrics</td>\n    </tr>\n    <tr>\n      <th>1</th>\n      <td>7mzrIsaAjnXihW3InKjlC3</td>\n      <td>Taylor Swift</td>\n      <td>Taylor Swift</td>\n      <td>Picture To Burn</td>\n      <td>32mVHdy0bi1XKgr0ajsBlG</td>\n      <td>[Verse 1]\\nState the obvious, I didn't get my ...</td>\n      <td>https://genius.com/Taylor-swift-picture-to-bur...</td>\n    </tr>\n    <tr>\n      <th>2</th>\n      <td>7mzrIsaAjnXihW3InKjlC3</td>\n      <td>Taylor Swift</td>\n      <td>Taylor Swift</td>\n      <td>Teardrops On My Guitar - Radio Single Remix</td>\n      <td>7zMcNqs55Mxer82bvZFkpg</td>\n      <td>[Verse 1]\\nDrew looks at me\\nI fake a smile so...</td>\n      <td>https://genius.com/Taylor-swift-teardrops-on-m...</td>\n    </tr>\n    <tr>\n      <th>3</th>\n      <td>7mzrIsaAjnXihW3InKjlC3</td>\n      <td>Taylor Swift</td>\n      <td>Taylor Swift</td>\n      <td>A Place in this World</td>\n      <td>73OX8GdpOeGzKC6OvGSbsv</td>\n      <td>[Verse 1]\\nI don't know what I want, so don't ...</td>\n      <td>https://genius.com/Taylor-swift-a-place-in-thi...</td>\n    </tr>\n    <tr>\n      <th>4</th>\n      <td>7mzrIsaAjnXihW3InKjlC3</td>\n      <td>Taylor Swift</td>\n      <td>Taylor Swift</td>\n      <td>Cold As You</td>\n      <td>7an1exwMnfYRcdVQm0yDev</td>\n      <td>[Verse 1]\\nYou have a way of coming easily to ...</td>\n      <td>https://genius.com/Taylor-swift-cold-as-you-ly...</td>\n    </tr>\n  </tbody>\n</table>\n</div>"
     },
     "execution_count": 301,
     "metadata": {},
     "output_type": "execute_result"
    }
   ],
   "source": [
    "album_data = pd.read_csv('album_data.csv')\n",
    "album_data.head(5)"
   ],
   "metadata": {
    "collapsed": false,
    "ExecuteTime": {
     "end_time": "2025-04-21T04:12:10.010852Z",
     "start_time": "2025-04-21T04:12:09.937752Z"
    }
   },
   "id": "2559992594c713e4",
   "execution_count": 301
  },
  {
   "cell_type": "code",
   "outputs": [],
   "source": [
    "OHCO = ['album_id','song_id','verse_num','token_num']"
   ],
   "metadata": {
    "collapsed": false,
    "ExecuteTime": {
     "end_time": "2025-04-21T04:12:10.016086Z",
     "start_time": "2025-04-21T04:12:10.011434Z"
    }
   },
   "id": "d9ff65295dab24cf",
   "execution_count": 302
  },
  {
   "cell_type": "code",
   "outputs": [],
   "source": [
    "album_data = album_data[['Album_Artists','Album_Name','Album_Songs', 'Song_Lyrics']]\n",
    "album_data = album_data.set_index(['Album_Name','Album_Songs'])"
   ],
   "metadata": {
    "collapsed": false,
    "ExecuteTime": {
     "end_time": "2025-04-21T04:12:10.021346Z",
     "start_time": "2025-04-21T04:12:10.015588Z"
    }
   },
   "id": "11ec59038fb1e987",
   "execution_count": 303
  },
  {
   "cell_type": "code",
   "outputs": [],
   "source": [
    "LIB = album_data.copy()\n",
    "LIB['doc_id'] = LIB.index\n",
    "LIB['char_len'] = LIB['Song_Lyrics'].str.len()\n",
    "\n",
    "# Summary stats\n",
    "num_docs = LIB.shape[0]\n",
    "avg_doc_len = LIB['char_len'].mean()"
   ],
   "metadata": {
    "collapsed": false,
    "ExecuteTime": {
     "end_time": "2025-04-21T04:12:10.041400Z",
     "start_time": "2025-04-21T04:12:10.026651Z"
    }
   },
   "id": "7de0aeefcc028590",
   "execution_count": 304
  },
  {
   "cell_type": "code",
   "outputs": [
    {
     "data": {
      "text/plain": "                                                         Album_Artists  \\\nAlbum_Name   Album_Songs                                                 \nTaylor Swift Tim McGraw                                   Taylor Swift   \n             Picture To Burn                              Taylor Swift   \n             Teardrops On My Guitar - Radio Single Remix  Taylor Swift   \n             A Place in this World                        Taylor Swift   \n             Cold As You                                  Taylor Swift   \n...                                                                ...   \n143          ALL THE LOVE                                   Katy Perry   \n             NIRVANA                                        Katy Perry   \n             ARTIFICIAL (feat. JID)                         Katy Perry   \n             TRUTH                                          Katy Perry   \n             WONDER                                         Katy Perry   \n\n                                                                                                Song_Lyrics  \\\nAlbum_Name   Album_Songs                                                                                      \nTaylor Swift Tim McGraw                                   [Verse 1]\\nHe said the way my blue eyes shined...   \n             Picture To Burn                              [Verse 1]\\nState the obvious, I didn't get my ...   \n             Teardrops On My Guitar - Radio Single Remix  [Verse 1]\\nDrew looks at me\\nI fake a smile so...   \n             A Place in this World                        [Verse 1]\\nI don't know what I want, so don't ...   \n             Cold As You                                  [Verse 1]\\nYou have a way of coming easily to ...   \n...                                                                                                     ...   \n143          ALL THE LOVE                                 [Verse 1]\\nI had accepted love wasn't for me\\n...   \n             NIRVANA                                      [Intro]\\nDancing in the blurry lights\\nFound y...   \n             ARTIFICIAL (feat. JID)                       [Intro: Katy Perry]\\nWho's gonna save us\\nFrom...   \n             TRUTH                                        [Intro]\\nI wanna know the truth\\nEven if it hu...   \n             WONDER                                       [Intro: Tius Sundberg]\\nOne day, when we're ol...   \n\n                                                                                                     doc_id  \\\nAlbum_Name   Album_Songs                                                                                      \nTaylor Swift Tim McGraw                                                          (Taylor Swift, Tim McGraw)   \n             Picture To Burn                                                (Taylor Swift, Picture To Burn)   \n             Teardrops On My Guitar - Radio Single Remix  (Taylor Swift, Teardrops On My Guitar - Radio ...   \n             A Place in this World                                    (Taylor Swift, A Place in this World)   \n             Cold As You                                                        (Taylor Swift, Cold As You)   \n...                                                                                                     ...   \n143          ALL THE LOVE                                                               (143, ALL THE LOVE)   \n             NIRVANA                                                                         (143, NIRVANA)   \n             ARTIFICIAL (feat. JID)                                           (143, ARTIFICIAL (feat. JID))   \n             TRUTH                                                                             (143, TRUTH)   \n             WONDER                                                                           (143, WONDER)   \n\n                                                          char_len  \nAlbum_Name   Album_Songs                                            \nTaylor Swift Tim McGraw                                       1870  \n             Picture To Burn                                  1591  \n             Teardrops On My Guitar - Radio Single Remix      1497  \n             A Place in this World                            1135  \n             Cold As You                                      1264  \n...                                                            ...  \n143          ALL THE LOVE                                     1296  \n             NIRVANA                                          1098  \n             ARTIFICIAL (feat. JID)                           1942  \n             TRUTH                                            1656  \n             WONDER                                           1649  \n\n[1992 rows x 4 columns]",
      "text/html": "<div>\n<style scoped>\n    .dataframe tbody tr th:only-of-type {\n        vertical-align: middle;\n    }\n\n    .dataframe tbody tr th {\n        vertical-align: top;\n    }\n\n    .dataframe thead th {\n        text-align: right;\n    }\n</style>\n<table border=\"1\" class=\"dataframe\">\n  <thead>\n    <tr style=\"text-align: right;\">\n      <th></th>\n      <th></th>\n      <th>Album_Artists</th>\n      <th>Song_Lyrics</th>\n      <th>doc_id</th>\n      <th>char_len</th>\n    </tr>\n    <tr>\n      <th>Album_Name</th>\n      <th>Album_Songs</th>\n      <th></th>\n      <th></th>\n      <th></th>\n      <th></th>\n    </tr>\n  </thead>\n  <tbody>\n    <tr>\n      <th rowspan=\"5\" valign=\"top\">Taylor Swift</th>\n      <th>Tim McGraw</th>\n      <td>Taylor Swift</td>\n      <td>[Verse 1]\\nHe said the way my blue eyes shined...</td>\n      <td>(Taylor Swift, Tim McGraw)</td>\n      <td>1870</td>\n    </tr>\n    <tr>\n      <th>Picture To Burn</th>\n      <td>Taylor Swift</td>\n      <td>[Verse 1]\\nState the obvious, I didn't get my ...</td>\n      <td>(Taylor Swift, Picture To Burn)</td>\n      <td>1591</td>\n    </tr>\n    <tr>\n      <th>Teardrops On My Guitar - Radio Single Remix</th>\n      <td>Taylor Swift</td>\n      <td>[Verse 1]\\nDrew looks at me\\nI fake a smile so...</td>\n      <td>(Taylor Swift, Teardrops On My Guitar - Radio ...</td>\n      <td>1497</td>\n    </tr>\n    <tr>\n      <th>A Place in this World</th>\n      <td>Taylor Swift</td>\n      <td>[Verse 1]\\nI don't know what I want, so don't ...</td>\n      <td>(Taylor Swift, A Place in this World)</td>\n      <td>1135</td>\n    </tr>\n    <tr>\n      <th>Cold As You</th>\n      <td>Taylor Swift</td>\n      <td>[Verse 1]\\nYou have a way of coming easily to ...</td>\n      <td>(Taylor Swift, Cold As You)</td>\n      <td>1264</td>\n    </tr>\n    <tr>\n      <th>...</th>\n      <th>...</th>\n      <td>...</td>\n      <td>...</td>\n      <td>...</td>\n      <td>...</td>\n    </tr>\n    <tr>\n      <th rowspan=\"5\" valign=\"top\">143</th>\n      <th>ALL THE LOVE</th>\n      <td>Katy Perry</td>\n      <td>[Verse 1]\\nI had accepted love wasn't for me\\n...</td>\n      <td>(143, ALL THE LOVE)</td>\n      <td>1296</td>\n    </tr>\n    <tr>\n      <th>NIRVANA</th>\n      <td>Katy Perry</td>\n      <td>[Intro]\\nDancing in the blurry lights\\nFound y...</td>\n      <td>(143, NIRVANA)</td>\n      <td>1098</td>\n    </tr>\n    <tr>\n      <th>ARTIFICIAL (feat. JID)</th>\n      <td>Katy Perry</td>\n      <td>[Intro: Katy Perry]\\nWho's gonna save us\\nFrom...</td>\n      <td>(143, ARTIFICIAL (feat. JID))</td>\n      <td>1942</td>\n    </tr>\n    <tr>\n      <th>TRUTH</th>\n      <td>Katy Perry</td>\n      <td>[Intro]\\nI wanna know the truth\\nEven if it hu...</td>\n      <td>(143, TRUTH)</td>\n      <td>1656</td>\n    </tr>\n    <tr>\n      <th>WONDER</th>\n      <td>Katy Perry</td>\n      <td>[Intro: Tius Sundberg]\\nOne day, when we're ol...</td>\n      <td>(143, WONDER)</td>\n      <td>1649</td>\n    </tr>\n  </tbody>\n</table>\n<p>1992 rows × 4 columns</p>\n</div>"
     },
     "execution_count": 310,
     "metadata": {},
     "output_type": "execute_result"
    }
   ],
   "source": [
    "LIB"
   ],
   "metadata": {
    "collapsed": false,
    "ExecuteTime": {
     "end_time": "2025-04-21T04:12:30.568498Z",
     "start_time": "2025-04-21T04:12:30.546199Z"
    }
   },
   "id": "1544e03b442e99b8",
   "execution_count": 310
  },
  {
   "cell_type": "code",
   "outputs": [],
   "source": [
    "import pandas as pd\n",
    "import nltk\n",
    "import re\n",
    "from nltk.tokenize import word_tokenize\n",
    "from nltk import pos_tag\n",
    "\n",
    "def tokenize(text):\n",
    "    # Use regex to find words only (no punctuation, no numbers)\n",
    "    tokens = re.findall(r\"\\b[a-zA-Z]+\\b\", text.lower())\n",
    "    return tokens\n",
    "\n",
    "def split_lyrics_to_verses(lyrics):\n",
    "    \"\"\"Split a song's lyrics into sections by headers like [Verse], [Chorus], etc.\"\"\"\n",
    "    pattern = r'\\[.*?\\]'\n",
    "    matches = list(re.finditer(pattern, lyrics))\n",
    "    \n",
    "    verses = []\n",
    "    if not matches:\n",
    "        return [{'section': 'Full', 'text': lyrics}]\n",
    "    \n",
    "    for i, match in enumerate(matches):\n",
    "        start = match.end()\n",
    "        end = matches[i+1].start() if i+1 < len(matches) else len(lyrics)\n",
    "        section_name = match.group().strip(\"[]\")\n",
    "        section_text = lyrics[start:end].strip()\n",
    "        if section_text:\n",
    "            verses.append({'section': section_name, 'text': section_text})\n",
    "    return verses\n",
    "\n",
    "def build_ohco_corpus(df):\n",
    "    corpus = []\n",
    "\n",
    "    for (album_id, song_id), row in df.iterrows():\n",
    "        lyrics = row['Song_Lyrics']\n",
    "        verses = split_lyrics_to_verses(lyrics)\n",
    "        for verse_num, verse in enumerate(verses):\n",
    "            raw_tokens = nltk.word_tokenize(verse['text'])\n",
    "            raw_tokens = [tokenize(x)[0] for x in raw_tokens if tokenize(x)]\n",
    "            tagged = nltk.pos_tag(raw_tokens)\n",
    "        \n",
    "            for token_num, (token_str, pos) in enumerate(tagged):\n",
    "                corpus.append({\n",
    "                    'album_id': album_id,\n",
    "                    'song_id': song_id,\n",
    "                    'verse_num': verse_num,\n",
    "                    'token_num': token_num,\n",
    "                    'token_str': token_str,\n",
    "                    'pos': pos,\n",
    "                    'pos_group': pos[:2]\n",
    "\n",
    "                })\n",
    "\n",
    "    return pd.DataFrame(corpus)"
   ],
   "metadata": {
    "collapsed": false,
    "ExecuteTime": {
     "end_time": "2025-04-21T04:12:10.041646Z",
     "start_time": "2025-04-21T04:12:10.034407Z"
    }
   },
   "id": "fa557092e558523a",
   "execution_count": 305
  },
  {
   "cell_type": "code",
   "outputs": [
    {
     "data": {
      "text/plain": "                                       album_id  \\\n763756                   good kid, m.A.A.d city   \n105575                         SOS Deluxe: LANA   \n548839                          The Eminem Show   \n36615          1989 (Taylor's Version) [Deluxe]   \n132957                Beauty Behind The Madness   \n...                                         ...   \n3186                               Taylor Swift   \n760821                   good kid, m.A.A.d city   \n447870                                 Scorpion   \n777677                      To Pimp A Butterfly   \n668869  The Death of Slim Shady (Coup De Grâce)   \n\n                                   song_id  verse_num  token_num token_str  \\\n763756                                Real          9         14       and   \n105575      Open Arms (feat. Travis Scott)          2         12       bad   \n548839                 Sing For The Moment          0        142       his   \n36615       Blank Space (Taylor's Version)          1        102     space   \n132957                               Angel          1         40        to   \n...                                    ...        ...        ...       ...   \n3186                              Our Song          1         55       and   \n760821  Sing About Me, I'm Dying Of Thirst          3        131      seen   \n447870                      In My Feelings          6          0       you   \n777677                          Mortal Man         12        476      that   \n668869                              Habits          6        275   buttons   \n\n         pos pos_group  \n763756    CC        CC  \n105575    JJ        JJ  \n548839  PRP$        PR  \n36615     NN        NN  \n132957    TO        TO  \n...      ...       ...  \n3186      CC        CC  \n760821   VBN        VB  \n447870   PRP        PR  \n777677   WDT        WD  \n668869   NNS        NN  \n\n[100 rows x 7 columns]",
      "text/html": "<div>\n<style scoped>\n    .dataframe tbody tr th:only-of-type {\n        vertical-align: middle;\n    }\n\n    .dataframe tbody tr th {\n        vertical-align: top;\n    }\n\n    .dataframe thead th {\n        text-align: right;\n    }\n</style>\n<table border=\"1\" class=\"dataframe\">\n  <thead>\n    <tr style=\"text-align: right;\">\n      <th></th>\n      <th>album_id</th>\n      <th>song_id</th>\n      <th>verse_num</th>\n      <th>token_num</th>\n      <th>token_str</th>\n      <th>pos</th>\n      <th>pos_group</th>\n    </tr>\n  </thead>\n  <tbody>\n    <tr>\n      <th>763756</th>\n      <td>good kid, m.A.A.d city</td>\n      <td>Real</td>\n      <td>9</td>\n      <td>14</td>\n      <td>and</td>\n      <td>CC</td>\n      <td>CC</td>\n    </tr>\n    <tr>\n      <th>105575</th>\n      <td>SOS Deluxe: LANA</td>\n      <td>Open Arms (feat. Travis Scott)</td>\n      <td>2</td>\n      <td>12</td>\n      <td>bad</td>\n      <td>JJ</td>\n      <td>JJ</td>\n    </tr>\n    <tr>\n      <th>548839</th>\n      <td>The Eminem Show</td>\n      <td>Sing For The Moment</td>\n      <td>0</td>\n      <td>142</td>\n      <td>his</td>\n      <td>PRP$</td>\n      <td>PR</td>\n    </tr>\n    <tr>\n      <th>36615</th>\n      <td>1989 (Taylor's Version) [Deluxe]</td>\n      <td>Blank Space (Taylor's Version)</td>\n      <td>1</td>\n      <td>102</td>\n      <td>space</td>\n      <td>NN</td>\n      <td>NN</td>\n    </tr>\n    <tr>\n      <th>132957</th>\n      <td>Beauty Behind The Madness</td>\n      <td>Angel</td>\n      <td>1</td>\n      <td>40</td>\n      <td>to</td>\n      <td>TO</td>\n      <td>TO</td>\n    </tr>\n    <tr>\n      <th>...</th>\n      <td>...</td>\n      <td>...</td>\n      <td>...</td>\n      <td>...</td>\n      <td>...</td>\n      <td>...</td>\n      <td>...</td>\n    </tr>\n    <tr>\n      <th>3186</th>\n      <td>Taylor Swift</td>\n      <td>Our Song</td>\n      <td>1</td>\n      <td>55</td>\n      <td>and</td>\n      <td>CC</td>\n      <td>CC</td>\n    </tr>\n    <tr>\n      <th>760821</th>\n      <td>good kid, m.A.A.d city</td>\n      <td>Sing About Me, I'm Dying Of Thirst</td>\n      <td>3</td>\n      <td>131</td>\n      <td>seen</td>\n      <td>VBN</td>\n      <td>VB</td>\n    </tr>\n    <tr>\n      <th>447870</th>\n      <td>Scorpion</td>\n      <td>In My Feelings</td>\n      <td>6</td>\n      <td>0</td>\n      <td>you</td>\n      <td>PRP</td>\n      <td>PR</td>\n    </tr>\n    <tr>\n      <th>777677</th>\n      <td>To Pimp A Butterfly</td>\n      <td>Mortal Man</td>\n      <td>12</td>\n      <td>476</td>\n      <td>that</td>\n      <td>WDT</td>\n      <td>WD</td>\n    </tr>\n    <tr>\n      <th>668869</th>\n      <td>The Death of Slim Shady (Coup De Grâce)</td>\n      <td>Habits</td>\n      <td>6</td>\n      <td>275</td>\n      <td>buttons</td>\n      <td>NNS</td>\n      <td>NN</td>\n    </tr>\n  </tbody>\n</table>\n<p>100 rows × 7 columns</p>\n</div>"
     },
     "execution_count": 306,
     "metadata": {},
     "output_type": "execute_result"
    }
   ],
   "source": [
    "CORPUS = build_ohco_corpus(album_data)\n",
    "CORPUS.sample(100)"
   ],
   "metadata": {
    "collapsed": false,
    "ExecuteTime": {
     "end_time": "2025-04-21T04:12:29.424097Z",
     "start_time": "2025-04-21T04:12:10.079751Z"
    }
   },
   "id": "9ab92351cdcce72",
   "execution_count": 306
  },
  {
   "cell_type": "code",
   "outputs": [
    {
     "data": {
      "text/plain": "               n         p          i max_pos max_pos_group    df        idf  \\\nterm_str                                                                       \na          16612  0.017221   5.859729      DT            DT  1787   0.134050   \naa             1  0.000001  19.879667      NN            NN     1  10.937374   \naaaaahhh       1  0.000001  19.879667      NN            NN     1  10.937374   \naaahhh         1  0.000001  19.879667      NN            NN     1  10.937374   \naah           11  0.000011  16.420235      JJ            JJ     4   8.937374   \n...          ...       ...        ...     ...           ...   ...        ...   \nzs             1  0.000001  19.879667      NN            NN     1  10.937374   \nzucchinis      3  0.000003  18.294705      NN            NN     3   9.352411   \nzulu           9  0.000009  16.709742      NN            NN     4   8.937374   \nzurp           1  0.000001  19.879667      NN            NN     1  10.937374   \nzydeco         1  0.000001  19.879667      NN            NN     1  10.937374   \n\n                dfidf  \nterm_str               \na          239.547173  \naa          10.937374  \naaaaahhh    10.937374  \naaahhh      10.937374  \naah         35.749495  \n...               ...  \nzs          10.937374  \nzucchinis   28.057234  \nzulu        35.749495  \nzurp        10.937374  \nzydeco      10.937374  \n\n[21749 rows x 8 columns]",
      "text/html": "<div>\n<style scoped>\n    .dataframe tbody tr th:only-of-type {\n        vertical-align: middle;\n    }\n\n    .dataframe tbody tr th {\n        vertical-align: top;\n    }\n\n    .dataframe thead th {\n        text-align: right;\n    }\n</style>\n<table border=\"1\" class=\"dataframe\">\n  <thead>\n    <tr style=\"text-align: right;\">\n      <th></th>\n      <th>n</th>\n      <th>p</th>\n      <th>i</th>\n      <th>max_pos</th>\n      <th>max_pos_group</th>\n      <th>df</th>\n      <th>idf</th>\n      <th>dfidf</th>\n    </tr>\n    <tr>\n      <th>term_str</th>\n      <th></th>\n      <th></th>\n      <th></th>\n      <th></th>\n      <th></th>\n      <th></th>\n      <th></th>\n      <th></th>\n    </tr>\n  </thead>\n  <tbody>\n    <tr>\n      <th>a</th>\n      <td>16612</td>\n      <td>0.017221</td>\n      <td>5.859729</td>\n      <td>DT</td>\n      <td>DT</td>\n      <td>1787</td>\n      <td>0.134050</td>\n      <td>239.547173</td>\n    </tr>\n    <tr>\n      <th>aa</th>\n      <td>1</td>\n      <td>0.000001</td>\n      <td>19.879667</td>\n      <td>NN</td>\n      <td>NN</td>\n      <td>1</td>\n      <td>10.937374</td>\n      <td>10.937374</td>\n    </tr>\n    <tr>\n      <th>aaaaahhh</th>\n      <td>1</td>\n      <td>0.000001</td>\n      <td>19.879667</td>\n      <td>NN</td>\n      <td>NN</td>\n      <td>1</td>\n      <td>10.937374</td>\n      <td>10.937374</td>\n    </tr>\n    <tr>\n      <th>aaahhh</th>\n      <td>1</td>\n      <td>0.000001</td>\n      <td>19.879667</td>\n      <td>NN</td>\n      <td>NN</td>\n      <td>1</td>\n      <td>10.937374</td>\n      <td>10.937374</td>\n    </tr>\n    <tr>\n      <th>aah</th>\n      <td>11</td>\n      <td>0.000011</td>\n      <td>16.420235</td>\n      <td>JJ</td>\n      <td>JJ</td>\n      <td>4</td>\n      <td>8.937374</td>\n      <td>35.749495</td>\n    </tr>\n    <tr>\n      <th>...</th>\n      <td>...</td>\n      <td>...</td>\n      <td>...</td>\n      <td>...</td>\n      <td>...</td>\n      <td>...</td>\n      <td>...</td>\n      <td>...</td>\n    </tr>\n    <tr>\n      <th>zs</th>\n      <td>1</td>\n      <td>0.000001</td>\n      <td>19.879667</td>\n      <td>NN</td>\n      <td>NN</td>\n      <td>1</td>\n      <td>10.937374</td>\n      <td>10.937374</td>\n    </tr>\n    <tr>\n      <th>zucchinis</th>\n      <td>3</td>\n      <td>0.000003</td>\n      <td>18.294705</td>\n      <td>NN</td>\n      <td>NN</td>\n      <td>3</td>\n      <td>9.352411</td>\n      <td>28.057234</td>\n    </tr>\n    <tr>\n      <th>zulu</th>\n      <td>9</td>\n      <td>0.000009</td>\n      <td>16.709742</td>\n      <td>NN</td>\n      <td>NN</td>\n      <td>4</td>\n      <td>8.937374</td>\n      <td>35.749495</td>\n    </tr>\n    <tr>\n      <th>zurp</th>\n      <td>1</td>\n      <td>0.000001</td>\n      <td>19.879667</td>\n      <td>NN</td>\n      <td>NN</td>\n      <td>1</td>\n      <td>10.937374</td>\n      <td>10.937374</td>\n    </tr>\n    <tr>\n      <th>zydeco</th>\n      <td>1</td>\n      <td>0.000001</td>\n      <td>19.879667</td>\n      <td>NN</td>\n      <td>NN</td>\n      <td>1</td>\n      <td>10.937374</td>\n      <td>10.937374</td>\n    </tr>\n  </tbody>\n</table>\n<p>21749 rows × 8 columns</p>\n</div>"
     },
     "execution_count": 307,
     "metadata": {},
     "output_type": "execute_result"
    }
   ],
   "source": [
    "CORPUS['term_str'] = CORPUS.token_str.replace(r'[\\W_]+', '', regex=True).str.lower()\n",
    "VOCAB = CORPUS['term_str'].value_counts().to_frame('n').sort_index()\n",
    "VOCAB.index.name = 'term_str'\n",
    "VOCAB['p'] = VOCAB.n / VOCAB.n.sum()\n",
    "VOCAB['i'] = -np.log2(VOCAB.p)\n",
    "VOCAB['max_pos'] = CORPUS[['term_str', 'pos']].value_counts().unstack(fill_value=0).idxmax(1)\n",
    "VOCAB['max_pos_group'] = CORPUS[['term_str', 'pos_group']].value_counts().unstack(fill_value=0).idxmax(1)\n",
    "\n",
    "df_by_term = CORPUS[['term_str', 'song_id']].drop_duplicates().groupby('term_str').size().to_frame('df')\n",
    "\n",
    "N_docs = CORPUS['song_id'].nunique()\n",
    "\n",
    "df_by_term['idf'] = np.log2(N_docs / df_by_term['df'])\n",
    "\n",
    "df_by_term['dfidf'] = df_by_term['df'] * df_by_term['idf']\n",
    "\n",
    "VOCAB = VOCAB.join(df_by_term[['df', 'idf', 'dfidf']], on='term_str')\n",
    "VOCAB"
   ],
   "metadata": {
    "collapsed": false,
    "ExecuteTime": {
     "end_time": "2025-04-21T04:12:30.529987Z",
     "start_time": "2025-04-21T04:12:29.436805Z"
    }
   },
   "id": "ca121959944f62eb",
   "execution_count": 307
  },
  {
   "cell_type": "code",
   "outputs": [
    {
     "data": {
      "text/plain": "term_str\nwant     1040.776569\ncome     1040.776569\ntell     1040.774921\ntoo      1040.721799\nfeel     1040.687957\nthen     1040.471310\nbeen     1040.470074\nare      1040.269397\nneed     1039.958959\ngon      1039.838857\nthere    1039.793427\nway      1039.599335\nright    1039.502011\nwan      1039.313841\ntake     1038.828701\ncould    1037.763556\nve       1037.763556\nwho      1036.632971\noff      1036.224884\nthink    1035.796974\nName: dfidf, dtype: float64"
     },
     "execution_count": 308,
     "metadata": {},
     "output_type": "execute_result"
    }
   ],
   "source": [
    "VOCAB.sort_values(by='dfidf', ascending=False)['dfidf'].head(20)"
   ],
   "metadata": {
    "collapsed": false,
    "ExecuteTime": {
     "end_time": "2025-04-21T04:12:30.543234Z",
     "start_time": "2025-04-21T04:12:30.531274Z"
    }
   },
   "id": "29e36f88080753b7",
   "execution_count": 308
  },
  {
   "cell_type": "code",
   "outputs": [
    {
     "data": {
      "text/plain": "1992"
     },
     "execution_count": 309,
     "metadata": {},
     "output_type": "execute_result"
    }
   ],
   "source": [
    "len(album_data)"
   ],
   "metadata": {
    "collapsed": false,
    "ExecuteTime": {
     "end_time": "2025-04-21T04:12:30.544596Z",
     "start_time": "2025-04-21T04:12:30.540119Z"
    }
   },
   "id": "33f0a064311a5c72",
   "execution_count": 309
  },
  {
   "cell_type": "code",
   "outputs": [],
   "source": [
    "CORPUS.to_csv('corpus.csv', index=False,sep= '|')\n",
    "LIB.to_csv('lib.csv',index=False,sep='|')\n",
    "VOCAB.to_csv('vocab.csv',index=False,sep='|')"
   ],
   "metadata": {
    "collapsed": false,
    "ExecuteTime": {
     "end_time": "2025-04-21T04:26:23.625218Z",
     "start_time": "2025-04-21T04:26:21.768895Z"
    }
   },
   "id": "e291f9fc3edb4de2",
   "execution_count": 311
  },
  {
   "cell_type": "code",
   "outputs": [],
   "source": [],
   "metadata": {
    "collapsed": false
   },
   "id": "f6cb17cf96052ef5"
  }
 ],
 "metadata": {
  "kernelspec": {
   "display_name": "Python 3",
   "language": "python",
   "name": "python3"
  },
  "language_info": {
   "codemirror_mode": {
    "name": "ipython",
    "version": 2
   },
   "file_extension": ".py",
   "mimetype": "text/x-python",
   "name": "python",
   "nbconvert_exporter": "python",
   "pygments_lexer": "ipython2",
   "version": "2.7.6"
  }
 },
 "nbformat": 4,
 "nbformat_minor": 5
}
